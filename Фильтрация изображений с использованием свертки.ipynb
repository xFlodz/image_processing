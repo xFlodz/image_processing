{
  "nbformat": 4,
  "nbformat_minor": 0,
  "metadata": {
    "colab": {
      "provenance": [],
      "mount_file_id": "1DK1rWu_xycFVhEtc-2wipWMP6sp-beC3",
      "authorship_tag": "ABX9TyMS3/Z7V0FqvA33YsartFmU",
      "include_colab_link": true
    },
    "kernelspec": {
      "name": "python3",
      "display_name": "Python 3"
    },
    "language_info": {
      "name": "python"
    }
  },
  "cells": [
    {
      "cell_type": "markdown",
      "metadata": {
        "id": "view-in-github",
        "colab_type": "text"
      },
      "source": [
        "<a href=\"https://colab.research.google.com/github/xFlodz/image_processing/blob/main/%D0%A4%D0%B8%D0%BB%D1%8C%D1%82%D1%80%D0%B0%D1%86%D0%B8%D1%8F%20%D0%B8%D0%B7%D0%BE%D0%B1%D1%80%D0%B0%D0%B6%D0%B5%D0%BD%D0%B8%D0%B9%20%D1%81%20%D0%B8%D1%81%D0%BF%D0%BE%D0%BB%D1%8C%D0%B7%D0%BE%D0%B2%D0%B0%D0%BD%D0%B8%D0%B5%D0%BC%20%D1%81%D0%B2%D0%B5%D1%80%D1%82%D0%BA%D0%B8.ipynb\" target=\"_parent\"><img src=\"https://colab.research.google.com/assets/colab-badge.svg\" alt=\"Open In Colab\"/></a>"
      ]
    },
    {
      "cell_type": "code",
      "execution_count": null,
      "metadata": {
        "id": "4-n7KtFdohEL"
      },
      "outputs": [],
      "source": [
        "import numpy as np\n",
        "import cv2\n",
        "from google.colab.patches import cv2_imshow"
      ]
    },
    {
      "cell_type": "code",
      "source": [
        "from google.colab import drive\n",
        "drive.mount('/content/drive')"
      ],
      "metadata": {
        "colab": {
          "base_uri": "https://localhost:8080/"
        },
        "id": "JYjEJkN6skGN",
        "outputId": "20a3f27d-a9df-47ba-bfa3-9db8ab60496c"
      },
      "execution_count": null,
      "outputs": [
        {
          "output_type": "stream",
          "name": "stdout",
          "text": [
            "Mounted at /content/drive\n"
          ]
        }
      ]
    },
    {
      "cell_type": "code",
      "source": [
        "img1 = cv2.imread('/content/drive/MyDrive/1.jpg')\n",
        "img2 = cv2.imread('/content/drive/MyDrive/2.jpg')\n",
        "img3 = cv2.imread('/content/drive/MyDrive/3.jpg')\n",
        "img4 = cv2.imread('/content/drive/MyDrive/4.jpg')\n",
        "img5 = cv2.imread('/content/drive/MyDrive/5.jpg')"
      ],
      "metadata": {
        "id": "a1w2FUqWtJSq"
      },
      "execution_count": null,
      "outputs": []
    },
    {
      "cell_type": "code",
      "source": [
        "lpf = np.array([[1, 1, 1, 1, 1],\n",
        "                [1, 1, 1, 1, 1],\n",
        "                [1, 1, 1, 1, 1],\n",
        "                [1, 1, 1, 1, 1],\n",
        "                [1, 1, 1, 1, 1]])\n",
        "\n",
        "lpf = lpf/(np.sum(lpf) if np.sum(lpf) !=0 else 1)\n",
        "\n",
        "hpf = np.array([[0.0, -1.0, 0.0],\n",
        "                [-1.0, 4.0, -1.0],\n",
        "                [0.0, -1.0, 0.0]])\n",
        "\n",
        "hpf = hpf/(np.sum(hpf) if np.sum(hpf) !=0 else 1)"
      ],
      "metadata": {
        "id": "3ayLnkQYuiC3"
      },
      "execution_count": null,
      "outputs": []
    },
    {
      "cell_type": "code",
      "source": [
        "lpf_img1 =  cv2.filter2D(img1,-1,lpf)\n",
        "hpf_img1 =  cv2.filter2D(img1,-1,hpf)\n",
        "\n",
        "result1 = np.concatenate((lpf_img1, hpf_img1), axis=1)\n",
        "\n",
        "cv2_imshow(result1)"
      ],
      "metadata": {
        "id": "ksEsH600vY2W",
        "collapsed": true
      },
      "execution_count": null,
      "outputs": []
    },
    {
      "cell_type": "code",
      "source": [
        "lpf_img2 =  cv2.filter2D(img2,-1,lpf)\n",
        "hpf_img2 =  cv2.filter2D(img2,-1,hpf)\n",
        "\n",
        "result2 = np.concatenate((lpf_img2, hpf_img2), axis=1)\n",
        "\n",
        "cv2_imshow(result2)"
      ],
      "metadata": {
        "id": "kwO3qI9GvZlU",
        "collapsed": true
      },
      "execution_count": null,
      "outputs": []
    },
    {
      "cell_type": "code",
      "source": [
        "lpf_img3 =  cv2.filter2D(img3,-1,lpf)\n",
        "hpf_img3 =  cv2.filter2D(img3,-1,hpf)\n",
        "\n",
        "result3 = np.concatenate((lpf_img3, hpf_img3), axis=1)\n",
        "\n",
        "cv2_imshow(result3)"
      ],
      "metadata": {
        "id": "5YUNk_iHvaon",
        "collapsed": true
      },
      "execution_count": null,
      "outputs": []
    },
    {
      "cell_type": "code",
      "source": [
        "lpf_img4 =  cv2.filter2D(img4,-1,lpf)\n",
        "hpf_img4 =  cv2.filter2D(img4,-1,hpf)\n",
        "\n",
        "result4 = np.concatenate((lpf_img4, hpf_img4), axis=1)\n",
        "\n",
        "cv2_imshow(result4)"
      ],
      "metadata": {
        "id": "62aogqVXvbB3",
        "collapsed": true
      },
      "execution_count": null,
      "outputs": []
    },
    {
      "cell_type": "code",
      "source": [
        "lpf_img5 =  cv2.filter2D(img5,-1,lpf)\n",
        "hpf_img5 =  cv2.filter2D(img5,-1,hpf)\n",
        "\n",
        "result5 = np.concatenate((lpf_img5, hpf_img5), axis=1)\n",
        "\n",
        "cv2_imshow(result5)"
      ],
      "metadata": {
        "id": "dCxsjpwpvbnA"
      },
      "execution_count": null,
      "outputs": []
    },
    {
      "cell_type": "code",
      "source": [
        "img = cv2.imread('/content/drive/MyDrive/img.jpg')\n",
        "\n",
        "kernel = np.array([[0, 1, 0],\n",
        "                   [1, 1, 1],\n",
        "                   [0, 1, 0]])\n",
        "\n",
        "kernel = kernel/(np.sum(kernel) if np.sum(kernel) !=0 else 1)\n",
        "\n",
        "new =  cv2.filter2D(img, -1, kernel)\n",
        "\n",
        "result = np.concatenate((img, new), axis=1)\n",
        "\n",
        "cv2.imwrite('new.jpg', new)\n",
        "\n",
        "cv2_imshow(result)"
      ],
      "metadata": {
        "id": "myuiLd4oxpdu",
        "collapsed": true
      },
      "execution_count": null,
      "outputs": []
    }
  ]
}