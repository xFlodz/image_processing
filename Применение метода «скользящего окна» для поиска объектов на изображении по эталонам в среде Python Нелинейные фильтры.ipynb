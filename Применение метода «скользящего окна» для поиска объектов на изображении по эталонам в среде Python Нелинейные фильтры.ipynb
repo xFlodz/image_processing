{
  "nbformat": 4,
  "nbformat_minor": 0,
  "metadata": {
    "colab": {
      "provenance": [],
      "include_colab_link": true
    },
    "kernelspec": {
      "name": "python3",
      "display_name": "Python 3"
    },
    "language_info": {
      "name": "python"
    }
  },
  "cells": [
    {
      "cell_type": "markdown",
      "metadata": {
        "id": "view-in-github",
        "colab_type": "text"
      },
      "source": [
        "<a href=\"https://colab.research.google.com/github/xFlodz/image_processing/blob/main/%D0%9F%D1%80%D0%B8%D0%BC%D0%B5%D0%BD%D0%B5%D0%BD%D0%B8%D0%B5%20%D0%BC%D0%B5%D1%82%D0%BE%D0%B4%D0%B0%20%C2%AB%D1%81%D0%BA%D0%BE%D0%BB%D1%8C%D0%B7%D1%8F%D1%89%D0%B5%D0%B3%D0%BE%20%D0%BE%D0%BA%D0%BD%D0%B0%C2%BB%20%D0%B4%D0%BB%D1%8F%20%D0%BF%D0%BE%D0%B8%D1%81%D0%BA%D0%B0%20%D0%BE%D0%B1%D1%8A%D0%B5%D0%BA%D1%82%D0%BE%D0%B2%20%D0%BD%D0%B0%20%D0%B8%D0%B7%D0%BE%D0%B1%D1%80%D0%B0%D0%B6%D0%B5%D0%BD%D0%B8%D0%B8%20%D0%BF%D0%BE%20%D1%8D%D1%82%D0%B0%D0%BB%D0%BE%D0%BD%D0%B0%D0%BC%20%D0%B2%20%D1%81%D1%80%D0%B5%D0%B4%D0%B5%20Python%20%D0%9D%D0%B5%D0%BB%D0%B8%D0%BD%D0%B5%D0%B9%D0%BD%D1%8B%D0%B5%20%D1%84%D0%B8%D0%BB%D1%8C%D1%82%D1%80%D1%8B.ipynb\" target=\"_parent\"><img src=\"https://colab.research.google.com/assets/colab-badge.svg\" alt=\"Open In Colab\"/></a>"
      ]
    },
    {
      "cell_type": "code",
      "source": [
        "from google.colab import drive\n",
        "drive.mount('/content/drive')"
      ],
      "metadata": {
        "id": "ElWkz0gel0ok",
        "outputId": "3e1ccf26-2ff6-44da-ed66-4c0e6b656e86",
        "colab": {
          "base_uri": "https://localhost:8080/"
        }
      },
      "execution_count": null,
      "outputs": [
        {
          "output_type": "stream",
          "name": "stdout",
          "text": [
            "Drive already mounted at /content/drive; to attempt to forcibly remount, call drive.mount(\"/content/drive\", force_remount=True).\n"
          ]
        }
      ]
    },
    {
      "cell_type": "markdown",
      "source": [
        "# **Практическая работа №2. Применение метода «скользящего окна» для поиска объектов на изображении по эталонам в среде Python. Нелинейные фильтры**"
      ],
      "metadata": {
        "id": "-aXleXg-jAws"
      }
    },
    {
      "cell_type": "markdown",
      "source": [
        "### **Задание №1. Найти пять зашумленных изображений и применить к ним вышеописанные фильтры. Сравнить полученные результаты. Сделать вывод для шумов какого типа целесообразней применение того или иного фильтра**"
      ],
      "metadata": {
        "id": "Dg9_AnTTrCrd"
      }
    },
    {
      "cell_type": "code",
      "source": [
        "import cv2\n",
        "from google.colab.patches import cv2_imshow\n",
        "import numpy as np\n",
        "import matplotlib.pyplot as plt"
      ],
      "metadata": {
        "id": "BZuMBLaBrKwc"
      },
      "execution_count": null,
      "outputs": []
    },
    {
      "cell_type": "code",
      "source": [
        "img1 = cv2.imread(\"/content/drive/MyDrive/second/4/test1.png\")\n",
        "img2 = cv2.imread(\"/content/drive/MyDrive/second/4/test2.png\")\n",
        "img3 = cv2.imread(\"/content/drive/MyDrive/second/4/test3.png\")\n",
        "img4 = cv2.imread(\"/content/drive/MyDrive/second/4/test4.png\")\n",
        "img5 = cv2.imread(\"/content/drive/MyDrive/second/4/test5.png\")"
      ],
      "metadata": {
        "id": "qAb24msWmtrG"
      },
      "execution_count": null,
      "outputs": []
    },
    {
      "cell_type": "code",
      "source": [
        "def image_converter(image):\n",
        "  median = cv2.medianBlur(image, 3)\n",
        "\n",
        "  kernel = np.ones((3, 3), np.float32) / 9\n",
        "  middle = cv2.filter2D(image, -1, kernel)\n",
        "\n",
        "  result = np.concatenate((image, median, middle), axis=1)\n",
        "\n",
        "  cv2_imshow(result)"
      ],
      "metadata": {
        "id": "qXH6CmhOng67"
      },
      "execution_count": null,
      "outputs": []
    },
    {
      "cell_type": "code",
      "source": [
        "images = [img1, img2, img3, img4, img5]\n",
        "\n",
        "for image in images:\n",
        "  image = cv2.resize(image, (900, 900))\n",
        "  image_converter(image)"
      ],
      "metadata": {
        "id": "TlDbJRpyoXnL",
        "collapsed": true
      },
      "execution_count": null,
      "outputs": []
    },
    {
      "cell_type": "markdown",
      "source": [
        "\n",
        "### **Задание №2. Из подкаталога «Image_1» (каталога IMAGE), определить местонахождение всех фрагментов (Et_1.png - Et_10.png) на растре IMAGE.jpg, используя вышеописанный алгоритм. Вывести результаты в консоль по каждому эталону**\n"
      ],
      "metadata": {
        "id": "4lm4N7aIjA49"
      }
    },
    {
      "cell_type": "code",
      "source": [
        "image = cv2.imread(\"/content/drive/MyDrive/second/1/IMAGE.jpg\")\n",
        "et_1 = cv2.imread(\"/content/drive/MyDrive/second/1/Et_1.png\")\n",
        "et_2 = cv2.imread(\"/content/drive/MyDrive/second/1/Et_2.png\")\n",
        "et_3 = cv2.imread(\"/content/drive/MyDrive/second/1/Et_3.png\")\n",
        "et_4 = cv2.imread(\"/content/drive/MyDrive/second/1/Et_4.png\")\n",
        "et_5 = cv2.imread(\"/content/drive/MyDrive/second/1/Et_5.png\")\n",
        "et_6 = cv2.imread(\"/content/drive/MyDrive/second/1/Et_6.png\")\n",
        "et_7 = cv2.imread(\"/content/drive/MyDrive/second/1/Et_7.png\")\n",
        "et_8 = cv2.imread(\"/content/drive/MyDrive/second/1/Et_8.png\")\n",
        "et_9 = cv2.imread(\"/content/drive/MyDrive/second/1/Et_9.png\")\n",
        "et_10 = cv2.imread(\"/content/drive/MyDrive/second/1/Et_10.png\")"
      ],
      "metadata": {
        "id": "xIMqPEjltKqp"
      },
      "execution_count": null,
      "outputs": []
    },
    {
      "cell_type": "code",
      "source": [
        "def fragment_search(img, frag):\n",
        "  (fragmentHeight, fragmentWidth) = frag.shape[:2]\n",
        "\n",
        "  result = cv2.matchTemplate(img, frag, cv2.TM_CCOEFF)\n",
        "  (_, _, minLoc, maxLoc) = cv2.minMaxLoc(result)\n",
        "\n",
        "  topLeft = maxLoc\n",
        "  botRight = (topLeft[0] + fragmentWidth, topLeft[1] + fragmentHeight)\n",
        "  roi = img[topLeft[1]:botRight[1], topLeft[0]:botRight[0]].copy()\n",
        "\n",
        "  mask = np.zeros(img.shape, dtype=\"uint8\")\n",
        "  image_dark = cv2.addWeighted(img, 0.2, mask, 0.75, 0)\n",
        "\n",
        "  image_dark[topLeft[1]:botRight[1], topLeft[0]:botRight[0]] = roi\n",
        "\n",
        "  max_height = 950\n",
        "  if image_dark.shape[0] > max_height:\n",
        "    scale = max_height / image_dark.shape[0]\n",
        "    image_display = cv2.resize(image_dark, None, fx=scale, fy=scale)\n",
        "  else:\n",
        "    image_display = image_dark\n",
        "\n",
        "  print(\"Исходное изображение с выделенным фраментом:\")\n",
        "  cv2_imshow(image_display)\n",
        "\n",
        "  print(\"Фрамент изображения (эталон):\")\n",
        "  cv2_imshow(frag)"
      ],
      "metadata": {
        "id": "jZPTRFkorMFU"
      },
      "execution_count": null,
      "outputs": []
    },
    {
      "cell_type": "code",
      "source": [
        "ets = [et_1, et_2, et_3, et_4, et_5, et_6, et_7, et_8, et_9, et_10]\n",
        "\n",
        "for et in ets:\n",
        "  fragment_search(image, et)"
      ],
      "metadata": {
        "id": "KMNrhVfItdV_",
        "collapsed": true
      },
      "execution_count": null,
      "outputs": []
    },
    {
      "cell_type": "markdown",
      "source": [
        "### **Задание №3. Создать свой эталон (фрагмент), а затем определить его местонахождение на растре (по образцу из примера выше).**\n",
        "\n",
        "**Главное при создании фрагмента учесть его разрешение.**\n",
        "\n",
        "Можно создать эталон на сайте: https://convert-my-image.com/CropImage_Ru или используя срезы NumPy."
      ],
      "metadata": {
        "id": "8JvrBV_krL9x"
      }
    },
    {
      "cell_type": "code",
      "source": [
        "image = cv2.imread(\"/content/drive/MyDrive/second/IMG_7471.jpg\")\n",
        "et_1 = cv2.imread(\"/content/drive/MyDrive/second/et_1.jpg\")\n",
        "et_2 = cv2.imread(\"/content/drive/MyDrive/second/et_2.jpg\")\n",
        "et_3 = cv2.imread(\"/content/drive/MyDrive/second/et_3.jpg\")\n",
        "et_4 = cv2.imread(\"/content/drive/MyDrive/second/et_4.jpg\")"
      ],
      "metadata": {
        "id": "A3SXG7w1rMQi"
      },
      "execution_count": null,
      "outputs": []
    },
    {
      "cell_type": "code",
      "source": [
        "ets = [et_1, et_2, et_3, et_4]\n",
        "\n",
        "for et in ets:\n",
        "  fragment_search(image, et)"
      ],
      "metadata": {
        "id": "2GZWN2Xcuz_v",
        "collapsed": true
      },
      "execution_count": null,
      "outputs": []
    }
  ]
}